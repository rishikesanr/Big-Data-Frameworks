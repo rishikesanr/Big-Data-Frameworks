{
 "cells": [
  {
   "cell_type": "markdown",
   "id": "78169c45-45d6-4fc3-b67f-b5e22393a738",
   "metadata": {},
   "source": [
    "### This is a notebook created in Databricks - Rishi\n",
    "\n",
    "Spark dataframe and visualizations may not be available for most outputs, as the current notebook was ran with a local spark session. "
   ]
  },
  {
   "cell_type": "code",
   "execution_count": 47,
   "id": "dddd19ad-8675-455c-9740-6292d6536b39",
   "metadata": {},
   "outputs": [],
   "source": [
    "import os\n",
    "import findspark\n",
    "findspark.init()\n",
    "from pyspark.sql import SparkSession\n",
    "\n",
    "# from pyspark import SparkConf, SparkContext\n",
    "from datetime import datetime, date, timedelta\n",
    "from dateutil import relativedelta\n",
    "from pyspark.sql import SQLContext, Row\n",
    "from pyspark.sql.types import *\n",
    "from pyspark.sql import DataFrame\n",
    "from pyspark.sql.functions import *\n",
    "from pyspark.sql.functions import to_timestamp, to_date\n",
    "from pyspark.sql import functions as F\n",
    "from pyspark.sql.functions import collect_list, collect_set, concat, first, array_distinct, col, size, expr\n",
    "import random\n",
    "import warnings\n",
    "warnings.filterwarnings('ignore')"
   ]
  },
  {
   "cell_type": "code",
   "execution_count": 26,
   "id": "0a17e3eb-0fe5-486e-abaf-072dcf974841",
   "metadata": {},
   "outputs": [],
   "source": [
    "#Start the spark session (Although it is not required if notebook directly ran in Databricks)\n",
    "spark = SparkSession.builder \\\n",
    "    .appName(\"Flight Data Analysis in Spark\") \\\n",
    "    .getOrCreate()"
   ]
  },
  {
   "cell_type": "markdown",
   "id": "6b683940-e21e-4ad9-858c-cdf45e7f1592",
   "metadata": {},
   "source": [
    "### Loading Dataset\n",
    "[Airbnb San Francisco Listing](https://www.kaggle.com/datasets/jeploretizo/san-francisco-airbnb-listings)"
   ]
  },
  {
   "cell_type": "code",
   "execution_count": 27,
   "id": "79901e66-fbba-48c3-ad58-a523e1d97451",
   "metadata": {
    "scrolled": true
   },
   "outputs": [
    {
     "data": {
      "text/plain": [
       "DataFrame[id: int, listing_url: string, scrape_id: double, last_scraped: string, name: string, summary: string, space: string, description: string, experiences_offered: string, neighborhood_overview: string, notes: string, transit: string, access: string, interaction: string, house_rules: string, thumbnail_url: string, medium_url: string, picture_url: string, xl_picture_url: string, host_id: int, host_url: string, host_name: string, host_since: string, host_location: string, host_about: string, host_response_time: string, host_response_rate: string, host_acceptance_rate: string, host_is_superhost: string, host_thumbnail_url: string, host_picture_url: string, host_neighbourhood: string, host_listings_count: int, host_total_listings_count: int, host_verifications: string, host_has_profile_pic: string, host_identity_verified: string, street: string, neighbourhood: string, neighbourhood_cleansed: string, neighbourhood_group_cleansed: string, city: string, state: string, zipcode: string, market: string, smart_location: string, country_code: string, country: string, latitude: double, longitude: double, is_location_exact: string, property_type: string, room_type: string, accommodates: int, bathrooms: double, bedrooms: int, beds: int, bed_type: string, amenities: string, square_feet: int, price: string, weekly_price: string, monthly_price: string, security_deposit: string, cleaning_fee: string, guests_included: int, extra_people: string, minimum_nights: int, maximum_nights: int, minimum_minimum_nights: int, maximum_minimum_nights: int, minimum_maximum_nights: int, maximum_maximum_nights: int, minimum_nights_avg_ntm: double, maximum_nights_avg_ntm: double, calendar_updated: string, has_availability: string, availability_30: int, availability_60: int, availability_90: int, availability_365: int, calendar_last_scraped: string, number_of_reviews: int, number_of_reviews_ltm: int, first_review: string, last_review: string, review_scores_rating: int, review_scores_accuracy: int, review_scores_cleanliness: int, review_scores_checkin: int, review_scores_communication: int, review_scores_location: int, review_scores_value: int, requires_license: string, license: string, jurisdiction_names: string, instant_bookable: string, is_business_travel_ready: string, cancellation_policy: string, require_guest_profile_picture: string, require_guest_phone_verification: string, calculated_host_listings_count: int, calculated_host_listings_count_entire_homes: int, calculated_host_listings_count_private_rooms: int, calculated_host_listings_count_shared_rooms: int, reviews_per_month: double]"
      ]
     },
     "metadata": {},
     "output_type": "display_data"
    }
   ],
   "source": [
    "\n",
    "file_path = \"./listings.csv\"\n",
    "\n",
    "raw_df = spark.read.csv(file_path, header=\"true\", inferSchema=\"true\", multiLine=\"true\", escape='\"')\n",
    "\n",
    "display(raw_df)"
   ]
  },
  {
   "cell_type": "code",
   "execution_count": 28,
   "id": "1b304983-6569-4f8d-aec9-0b45347fb3f2",
   "metadata": {
    "scrolled": true
   },
   "outputs": [
    {
     "data": {
      "text/plain": [
       "['id',\n",
       " 'listing_url',\n",
       " 'scrape_id',\n",
       " 'last_scraped',\n",
       " 'name',\n",
       " 'summary',\n",
       " 'space',\n",
       " 'description',\n",
       " 'experiences_offered',\n",
       " 'neighborhood_overview',\n",
       " 'notes',\n",
       " 'transit',\n",
       " 'access',\n",
       " 'interaction',\n",
       " 'house_rules',\n",
       " 'thumbnail_url',\n",
       " 'medium_url',\n",
       " 'picture_url',\n",
       " 'xl_picture_url',\n",
       " 'host_id',\n",
       " 'host_url',\n",
       " 'host_name',\n",
       " 'host_since',\n",
       " 'host_location',\n",
       " 'host_about',\n",
       " 'host_response_time',\n",
       " 'host_response_rate',\n",
       " 'host_acceptance_rate',\n",
       " 'host_is_superhost',\n",
       " 'host_thumbnail_url',\n",
       " 'host_picture_url',\n",
       " 'host_neighbourhood',\n",
       " 'host_listings_count',\n",
       " 'host_total_listings_count',\n",
       " 'host_verifications',\n",
       " 'host_has_profile_pic',\n",
       " 'host_identity_verified',\n",
       " 'street',\n",
       " 'neighbourhood',\n",
       " 'neighbourhood_cleansed',\n",
       " 'neighbourhood_group_cleansed',\n",
       " 'city',\n",
       " 'state',\n",
       " 'zipcode',\n",
       " 'market',\n",
       " 'smart_location',\n",
       " 'country_code',\n",
       " 'country',\n",
       " 'latitude',\n",
       " 'longitude',\n",
       " 'is_location_exact',\n",
       " 'property_type',\n",
       " 'room_type',\n",
       " 'accommodates',\n",
       " 'bathrooms',\n",
       " 'bedrooms',\n",
       " 'beds',\n",
       " 'bed_type',\n",
       " 'amenities',\n",
       " 'square_feet',\n",
       " 'price',\n",
       " 'weekly_price',\n",
       " 'monthly_price',\n",
       " 'security_deposit',\n",
       " 'cleaning_fee',\n",
       " 'guests_included',\n",
       " 'extra_people',\n",
       " 'minimum_nights',\n",
       " 'maximum_nights',\n",
       " 'minimum_minimum_nights',\n",
       " 'maximum_minimum_nights',\n",
       " 'minimum_maximum_nights',\n",
       " 'maximum_maximum_nights',\n",
       " 'minimum_nights_avg_ntm',\n",
       " 'maximum_nights_avg_ntm',\n",
       " 'calendar_updated',\n",
       " 'has_availability',\n",
       " 'availability_30',\n",
       " 'availability_60',\n",
       " 'availability_90',\n",
       " 'availability_365',\n",
       " 'calendar_last_scraped',\n",
       " 'number_of_reviews',\n",
       " 'number_of_reviews_ltm',\n",
       " 'first_review',\n",
       " 'last_review',\n",
       " 'review_scores_rating',\n",
       " 'review_scores_accuracy',\n",
       " 'review_scores_cleanliness',\n",
       " 'review_scores_checkin',\n",
       " 'review_scores_communication',\n",
       " 'review_scores_location',\n",
       " 'review_scores_value',\n",
       " 'requires_license',\n",
       " 'license',\n",
       " 'jurisdiction_names',\n",
       " 'instant_bookable',\n",
       " 'is_business_travel_ready',\n",
       " 'cancellation_policy',\n",
       " 'require_guest_profile_picture',\n",
       " 'require_guest_phone_verification',\n",
       " 'calculated_host_listings_count',\n",
       " 'calculated_host_listings_count_entire_homes',\n",
       " 'calculated_host_listings_count_private_rooms',\n",
       " 'calculated_host_listings_count_shared_rooms',\n",
       " 'reviews_per_month']"
      ]
     },
     "execution_count": 28,
     "metadata": {},
     "output_type": "execute_result"
    }
   ],
   "source": [
    "raw_df.columns"
   ]
  },
  {
   "cell_type": "code",
   "execution_count": 29,
   "id": "cbd516cb-78ad-4391-ac71-4b07c9219f35",
   "metadata": {},
   "outputs": [
    {
     "name": "stderr",
     "output_type": "stream",
     "text": [
      "24/05/01 17:41:03 WARN CacheManager: Asked to cache already cached data.\n"
     ]
    },
    {
     "data": {
      "text/plain": [
       "DataFrame[host_is_superhost: string, cancellation_policy: string, instant_bookable: string, host_total_listings_count: int, neighbourhood_cleansed: string, latitude: double, longitude: double, property_type: string, room_type: string, accommodates: int, bathrooms: double, bedrooms: int, beds: int, bed_type: string, minimum_nights: int, number_of_reviews: int, review_scores_rating: int, review_scores_accuracy: int, review_scores_cleanliness: int, review_scores_checkin: int, review_scores_communication: int, review_scores_location: int, review_scores_value: int, price: string]"
      ]
     },
     "metadata": {},
     "output_type": "display_data"
    }
   ],
   "source": [
    "columns_to_keep = [\n",
    "    \"host_is_superhost\",\n",
    "    \"cancellation_policy\",\n",
    "    \"instant_bookable\",\n",
    "    \"host_total_listings_count\",\n",
    "    \"neighbourhood_cleansed\",\n",
    "    \"latitude\",\n",
    "    \"longitude\",\n",
    "    \"property_type\",\n",
    "    \"room_type\",\n",
    "    \"accommodates\",\n",
    "    \"bathrooms\",\n",
    "    \"bedrooms\",\n",
    "    \"beds\",\n",
    "    \"bed_type\",\n",
    "    \"minimum_nights\",\n",
    "    \"number_of_reviews\",\n",
    "    \"review_scores_rating\",\n",
    "    \"review_scores_accuracy\",\n",
    "    \"review_scores_cleanliness\",\n",
    "    \"review_scores_checkin\",\n",
    "    \"review_scores_communication\",\n",
    "    \"review_scores_location\",\n",
    "    \"review_scores_value\",\n",
    "    \"price\"\n",
    "]\n",
    "\n",
    "base_df = raw_df.select(columns_to_keep)\n",
    "base_df.cache().count()\n",
    "display(base_df)"
   ]
  },
  {
   "cell_type": "code",
   "execution_count": 30,
   "id": "09590a38-c553-4a2a-99ab-01158683eb68",
   "metadata": {},
   "outputs": [
    {
     "data": {
      "text/plain": [
       "DataFrame[host_is_superhost: string, cancellation_policy: string, instant_bookable: string, host_total_listings_count: int, neighbourhood_cleansed: string, latitude: double, longitude: double, property_type: string, room_type: string, accommodates: int, bathrooms: double, bedrooms: int, beds: int, bed_type: string, minimum_nights: int, number_of_reviews: int, review_scores_rating: int, review_scores_accuracy: int, review_scores_cleanliness: int, review_scores_checkin: int, review_scores_communication: int, review_scores_location: int, review_scores_value: int, price: double]"
      ]
     },
     "metadata": {},
     "output_type": "display_data"
    }
   ],
   "source": [
    "#Fixing Data Types\n",
    "\n",
    "from pyspark.sql.functions import col, translate\n",
    "\n",
    "fixed_price_df = base_df.withColumn(\"price\", translate(col(\"price\"), \"$,\", \"\").cast(\"double\"))\n",
    "\n",
    "display(fixed_price_df)"
   ]
  },
  {
   "cell_type": "markdown",
   "id": "f8fefab7-2d5f-4770-9eca-b53e4a44ef6f",
   "metadata": {},
   "source": [
    "## Summary Statistics"
   ]
  },
  {
   "cell_type": "code",
   "execution_count": 31,
   "id": "60bd943e-1e4e-40db-b802-c913941fa3c8",
   "metadata": {},
   "outputs": [
    {
     "data": {
      "text/plain": [
       "DataFrame[summary: string, host_is_superhost: string, cancellation_policy: string, instant_bookable: string, host_total_listings_count: string, neighbourhood_cleansed: string, latitude: string, longitude: string, property_type: string, room_type: string, accommodates: string, bathrooms: string, bedrooms: string, beds: string, bed_type: string, minimum_nights: string, number_of_reviews: string, review_scores_rating: string, review_scores_accuracy: string, review_scores_cleanliness: string, review_scores_checkin: string, review_scores_communication: string, review_scores_location: string, review_scores_value: string, price: string]"
      ]
     },
     "metadata": {},
     "output_type": "display_data"
    }
   ],
   "source": [
    "display(fixed_price_df.describe())"
   ]
  },
  {
   "cell_type": "code",
   "execution_count": 32,
   "id": "e6fb65a0-d46f-45da-9536-911fa2fb7b3a",
   "metadata": {},
   "outputs": [
    {
     "data": {
      "text/plain": [
       "DataFrame[summary: string, host_is_superhost: string, cancellation_policy: string, instant_bookable: string, host_total_listings_count: string, neighbourhood_cleansed: string, latitude: string, longitude: string, property_type: string, room_type: string, accommodates: string, bathrooms: string, bedrooms: string, beds: string, bed_type: string, minimum_nights: string, number_of_reviews: string, review_scores_rating: string, review_scores_accuracy: string, review_scores_cleanliness: string, review_scores_checkin: string, review_scores_communication: string, review_scores_location: string, review_scores_value: string, price: string]"
      ]
     },
     "metadata": {},
     "output_type": "display_data"
    }
   ],
   "source": [
    "display(fixed_price_df.summary())"
   ]
  },
  {
   "cell_type": "code",
   "execution_count": 33,
   "id": "903b9643-9d54-4669-bbeb-706f0bb13928",
   "metadata": {},
   "outputs": [
    {
     "data": {
      "text/plain": [
       "DataFrame[summary: string, price: string]"
      ]
     },
     "metadata": {},
     "output_type": "display_data"
    }
   ],
   "source": [
    "#Getting rid of extreme values\n",
    "\n",
    "display(fixed_price_df.select(\"price\").describe())"
   ]
  },
  {
   "cell_type": "code",
   "execution_count": 34,
   "id": "662c7eab-7a9c-4578-aa88-400a8ee4a80c",
   "metadata": {},
   "outputs": [
    {
     "data": {
      "text/plain": [
       "1"
      ]
     },
     "execution_count": 34,
     "metadata": {},
     "output_type": "execute_result"
    }
   ],
   "source": [
    "fixed_price_df.filter(col(\"price\")==0).count()"
   ]
  },
  {
   "cell_type": "code",
   "execution_count": 35,
   "id": "60c8c68a-2940-4c95-9179-6f2e93fe796e",
   "metadata": {},
   "outputs": [],
   "source": [
    "#Now only keep rows with a strictly positive price\n",
    "pos_prices_df = fixed_price_df.filter(col(\"price\") > 0)"
   ]
  },
  {
   "cell_type": "code",
   "execution_count": 36,
   "id": "b0e85227-9c26-43af-8999-81a37918d704",
   "metadata": {},
   "outputs": [
    {
     "data": {
      "text/plain": [
       "DataFrame[host_is_superhost: string, cancellation_policy: string, instant_bookable: string, host_total_listings_count: int, neighbourhood_cleansed: string, latitude: double, longitude: double, property_type: string, room_type: string, accommodates: int, bathrooms: double, bedrooms: int, beds: int, bed_type: string, minimum_nights: int, number_of_reviews: int, review_scores_rating: int, review_scores_accuracy: int, review_scores_cleanliness: int, review_scores_checkin: int, review_scores_communication: int, review_scores_location: int, review_scores_value: int, price: double]"
      ]
     },
     "metadata": {},
     "output_type": "display_data"
    }
   ],
   "source": [
    "# A minimum stay of one year seems to be a reasonable limit here. Let's filter out those records where the *minimum_nights* \n",
    "#is greater than 365.\n",
    "\n",
    "min_nights_df = pos_prices_df.filter(col(\"minimum_nights\") <= 365)\n",
    "\n",
    "display(min_nights_df)"
   ]
  },
  {
   "cell_type": "markdown",
   "id": "44285e6b-81d7-44f0-9b42-b38cc0c9e635",
   "metadata": {},
   "source": [
    "## Handling Null Values\n",
    "\n",
    "Some ways to handle nulls:\n",
    "* Drop any records that contain nulls\n",
    "* Numeric:\n",
    "  * Replace them with mean/median/zero/etc.\n",
    "* Categorical:\n",
    "  * Replace them with the mode\n",
    "  * Create a special category for null\n",
    "* Use techniques like ALS (Alternating Least Squares) which are designed to impute missing values"
   ]
  },
  {
   "cell_type": "code",
   "execution_count": 37,
   "id": "acd3862b-63aa-4139-a0df-3233201d502c",
   "metadata": {},
   "outputs": [
    {
     "name": "stdout",
     "output_type": "stream",
     "text": [
      "Columns converted from Integer to Double:\n",
      " - host_total_listings_count\n",
      " - accommodates\n",
      " - bedrooms\n",
      " - beds\n",
      " - minimum_nights\n",
      " - number_of_reviews\n",
      " - review_scores_rating\n",
      " - review_scores_accuracy\n",
      " - review_scores_cleanliness\n",
      " - review_scores_checkin\n",
      " - review_scores_communication\n",
      " - review_scores_location\n",
      " - review_scores_value\n"
     ]
    }
   ],
   "source": [
    "# For imputing all numeric variables must be double \n",
    "\n",
    "from pyspark.sql.functions import col\n",
    "from pyspark.sql.types import IntegerType\n",
    "\n",
    "integer_columns = [x.name for x in min_nights_df.schema.fields if x.dataType == IntegerType()]\n",
    "doubles_df = min_nights_df\n",
    "\n",
    "for c in integer_columns:\n",
    "    doubles_df = doubles_df.withColumn(c, col(c).cast(\"double\"))\n",
    "\n",
    "columns = \"\\n - \".join(integer_columns)\n",
    "print(f\"Columns converted from Integer to Double:\\n - {columns}\")"
   ]
  },
  {
   "cell_type": "code",
   "execution_count": 41,
   "id": "f476c64e-b3da-488f-bd9a-c3580346f915",
   "metadata": {},
   "outputs": [],
   "source": [
    "# Add a dummy column to denote the presence of null values before imputing (i.e. 1.0 = Yes, 0.0 = No).\n",
    "\n",
    "from pyspark.sql.functions import when, col\n",
    "\n",
    "impute_cols = [\n",
    "    \"bedrooms\",\n",
    "    \"bathrooms\",\n",
    "    \"beds\", \n",
    "    \"review_scores_rating\",\n",
    "    \"review_scores_accuracy\",\n",
    "    \"review_scores_cleanliness\",\n",
    "    \"review_scores_checkin\",\n",
    "    \"review_scores_communication\",\n",
    "    \"review_scores_location\",\n",
    "    \"review_scores_value\"\n",
    "]\n",
    "\n",
    "for c in impute_cols:\n",
    "    doubles_df = doubles_df.withColumn(c + \"_na\", when(col(c).isNull(), 1.0).otherwise(0.0))\n"
   ]
  },
  {
   "cell_type": "code",
   "execution_count": 42,
   "id": "01d5d91d-15a5-482b-b7e5-f8d2a688a853",
   "metadata": {},
   "outputs": [
    {
     "data": {
      "text/plain": [
       "DataFrame[summary: string, host_is_superhost: string, cancellation_policy: string, instant_bookable: string, host_total_listings_count: string, neighbourhood_cleansed: string, latitude: string, longitude: string, property_type: string, room_type: string, accommodates: string, bathrooms: string, bedrooms: string, beds: string, bed_type: string, minimum_nights: string, number_of_reviews: string, review_scores_rating: string, review_scores_accuracy: string, review_scores_cleanliness: string, review_scores_checkin: string, review_scores_communication: string, review_scores_location: string, review_scores_value: string, price: string, bedrooms_na: string, bathrooms_na: string, beds_na: string, review_scores_rating_na: string, review_scores_accuracy_na: string, review_scores_cleanliness_na: string, review_scores_checkin_na: string, review_scores_communication_na: string, review_scores_location_na: string, review_scores_value_na: string]"
      ]
     },
     "metadata": {},
     "output_type": "display_data"
    }
   ],
   "source": [
    "display(doubles_df.describe())"
   ]
  },
  {
   "cell_type": "markdown",
   "id": "3765881b-8f40-4077-aa91-27fa46d9001f",
   "metadata": {},
   "source": [
    "## Transformers and Estimators"
   ]
  },
  {
   "cell_type": "code",
   "execution_count": 43,
   "id": "873da5c4-ff21-4bfe-8eda-62c85a796408",
   "metadata": {},
   "outputs": [
    {
     "name": "stderr",
     "output_type": "stream",
     "text": [
      "                                                                                \r"
     ]
    }
   ],
   "source": [
    "from pyspark.ml.feature import Imputer\n",
    "\n",
    "imputer = Imputer(strategy=\"median\", inputCols=impute_cols, outputCols=impute_cols)\n",
    "\n",
    "imputer_model = imputer.fit(doubles_df)\n",
    "imputed_df = imputer_model.transform(doubles_df)"
   ]
  },
  {
   "cell_type": "code",
   "execution_count": 46,
   "id": "2127a04e-14dc-45e4-b46c-cf8e4b2ff29d",
   "metadata": {},
   "outputs": [],
   "source": [
    "# For saving as delta table\n",
    "# imputed_df.write.format(\"delta\").mode(\"overwrite\").save(f\"{DA.paths.working_dir}/imputed_results\")\n",
    "\n",
    "#For local, we'll store this as a csv file \n",
    "\n",
    "imputed_df.write.csv(path='./cleaned_listings.csv', mode='overwrite', header=True)\n"
   ]
  },
  {
   "cell_type": "code",
   "execution_count": null,
   "id": "44c69f6f-c5e0-4022-bb4a-90e5bc023c70",
   "metadata": {},
   "outputs": [],
   "source": []
  }
 ],
 "metadata": {
  "kernelspec": {
   "display_name": "Python [conda env:epl_analytics] *",
   "language": "python",
   "name": "conda-env-epl_analytics-py"
  },
  "language_info": {
   "codemirror_mode": {
    "name": "ipython",
    "version": 3
   },
   "file_extension": ".py",
   "mimetype": "text/x-python",
   "name": "python",
   "nbconvert_exporter": "python",
   "pygments_lexer": "ipython3",
   "version": "3.8.18"
  }
 },
 "nbformat": 4,
 "nbformat_minor": 5
}
