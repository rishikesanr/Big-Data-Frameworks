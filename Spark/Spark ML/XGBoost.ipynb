{
 "cells": [
  {
   "cell_type": "markdown",
   "id": "c4b9003c-a2e6-4a6f-b3ba-277a1bb6a65b",
   "metadata": {},
   "source": [
    "# Integrating XGBoost Model with Spark"
   ]
  },
  {
   "cell_type": "code",
   "execution_count": null,
   "id": "8bc8d0c0-8fd5-4e8c-a11a-dceec3f06ac2",
   "metadata": {},
   "outputs": [],
   "source": [
    "# Data preparation\n",
    "\n",
    "from pyspark.sql.functions import log, col\n",
    "from pyspark.ml.feature import StringIndexer, VectorAssembler\n",
    "\n",
    "file_path = f\"{DA.paths.datasets}/airbnb/sf-listings/sf-listings-2019-03-06-clean.delta/\"\n",
    "airbnb_df = spark.read.format(\"delta\").load(file_path)\n",
    "train_df, test_df = airbnb_df.withColumn(\"label\", log(col(\"price\"))).randomSplit([.8, .2], seed=42)\n",
    "\n",
    "categorical_cols = [field for (field, dataType) in train_df.dtypes if dataType == \"string\"]\n",
    "index_output_cols = [x + \"Index\" for x in categorical_cols]\n",
    "\n",
    "string_indexer = StringIndexer(inputCols=categorical_cols, outputCols=index_output_cols, handleInvalid=\"skip\")\n",
    "\n",
    "numeric_cols = [field for (field, dataType) in train_df.dtypes if ((dataType == \"double\") & (field != \"price\") & (field != \"label\"))]\n",
    "assembler_inputs = index_output_cols + numeric_cols\n",
    "vec_assembler = VectorAssembler(inputCols=assembler_inputs, outputCol=\"features\")"
   ]
  },
  {
   "cell_type": "markdown",
   "id": "3d7be987-c2c7-4cf5-89b5-1a4f5c4acdba",
   "metadata": {},
   "source": [
    "### Distributed Training of XGBoost Model"
   ]
  },
  {
   "cell_type": "code",
   "execution_count": 2,
   "id": "33416f71-74d4-4b4f-be0a-e6abd671fe30",
   "metadata": {},
   "outputs": [],
   "source": [
    "\n",
    "# <!-- For distributed version of XGBoost's PySpark estimators, we can add two additional parameters:\n",
    "\n",
    "# * **`num_workers`**: The number of workers to distribute over.\n",
    "# * **`use_gpu`**: Enable to utilize GPU based training for faster performance. -->"
   ]
  },
  {
   "cell_type": "code",
   "execution_count": null,
   "id": "1c96c28c-4c07-499f-8d91-3d016695f278",
   "metadata": {},
   "outputs": [],
   "source": [
    "from xgboost.spark import SparkXGBRegressor\n",
    "from pyspark.ml import Pipeline\n",
    "\n",
    "params = {\"n_estimators\": 100, \"learning_rate\": 0.1, \"max_depth\": 4, \"random_state\": 42, \"missing\": 0}\n",
    "\n",
    "xgboost = SparkXGBRegressor(**params)\n",
    "\n",
    "pipeline = Pipeline(stages=[string_indexer, vec_assembler, xgboost])\n",
    "pipeline_model = pipeline.fit(train_df)"
   ]
  },
  {
   "cell_type": "code",
   "execution_count": null,
   "id": "c54af8dd-4e57-4359-b5ad-81f76440db4f",
   "metadata": {},
   "outputs": [],
   "source": [
    "# Evaluate the model\n",
    "\n",
    "from pyspark.sql.functions import exp, col\n",
    "\n",
    "log_pred_df = pipeline_model.transform(test_df)\n",
    "\n",
    "exp_xgboost_df = log_pred_df.withColumn(\"prediction\", exp(col(\"prediction\")))\n",
    "\n",
    "display(exp_xgboost_df.select(\"price\", \"prediction\"))"
   ]
  },
  {
   "cell_type": "code",
   "execution_count": null,
   "id": "f289f32b-1d98-46e5-b693-64968f795a98",
   "metadata": {},
   "outputs": [],
   "source": [
    "from pyspark.ml.evaluation import RegressionEvaluator\n",
    "\n",
    "regression_evaluator = RegressionEvaluator(predictionCol=\"prediction\", labelCol=\"price\", metricName=\"rmse\")\n",
    "\n",
    "rmse = regression_evaluator.evaluate(exp_xgboost_df)\n",
    "r2 = regression_evaluator.setMetricName(\"r2\").evaluate(exp_xgboost_df)\n",
    "print(f\"RMSE is {rmse}\")\n",
    "print(f\"R2 is {r2}\")"
   ]
  }
 ],
 "metadata": {
  "kernelspec": {
   "display_name": "Python [conda env:epl_analytics] *",
   "language": "python",
   "name": "conda-env-epl_analytics-py"
  },
  "language_info": {
   "codemirror_mode": {
    "name": "ipython",
    "version": 3
   },
   "file_extension": ".py",
   "mimetype": "text/x-python",
   "name": "python",
   "nbconvert_exporter": "python",
   "pygments_lexer": "ipython3",
   "version": "3.8.18"
  }
 },
 "nbformat": 4,
 "nbformat_minor": 5
}
